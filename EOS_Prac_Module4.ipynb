{
  "cells": [
    {
      "cell_type": "code",
      "execution_count": null,
      "id": "7a360ad4-d8a5-4215-8d8f-6460f502a4dd",
      "metadata": {
        "id": "7a360ad4-d8a5-4215-8d8f-6460f502a4dd"
      },
      "outputs": [],
      "source": [
        "# install the latest features of the earth engine api\n",
        "!pip install --upgrade earthengine-api"
      ]
    },
    {
      "cell_type": "code",
      "execution_count": null,
      "id": "e5766bf4-a2ab-48be-a251-95245696db06",
      "metadata": {
        "id": "e5766bf4-a2ab-48be-a251-95245696db06"
      },
      "outputs": [],
      "source": [
        "#Import Earth Engine API and the geemap package for geospatial data visulization\n",
        "import google\n",
        "from google.colab import auth\n",
        "from google.auth import compute_engine\n",
        "\n",
        "import ee\n",
        "import geemap"
      ]
    },
    {
      "cell_type": "code",
      "execution_count": null,
      "id": "47f1b428-c349-4d6e-b7a0-9b1799c3113a",
      "metadata": {
        "id": "47f1b428-c349-4d6e-b7a0-9b1799c3113a"
      },
      "outputs": [],
      "source": [
        "# Authenticate with user credentials\n",
        "auth.authenticate_user()"
      ]
    },
    {
      "cell_type": "code",
      "source": [
        "# Please fill in these values.\n",
        "PROJECT = \"ee-glenromzyyali\"  # @param {type:\"string\"} ***Enter your ee-userprojectname***\n",
        "\n",
        "PROJECT = None if PROJECT == \"\" else PROJECT\n",
        "\n",
        "# Quick input validations.\n",
        "if PROJECT is None:\n",
        "    import warnings\n",
        "    warnings.warn(\"⚠️ A Google Cloud project was not provided. Please consider providing a Google Cloud project ID\")"
      ],
      "metadata": {
        "id": "nYM7EnWFILaq"
      },
      "id": "nYM7EnWFILaq",
      "execution_count": null,
      "outputs": []
    },
    {
      "cell_type": "code",
      "source": [
        "# get the user credentials from the VM\n",
        "credentials, _ = google.auth.default()\n",
        "\n",
        "# initialize the client library\n",
        "ee.Initialize(\n",
        "    credentials,\n",
        "    project=PROJECT\n",
        ")\n",
        "# if you do not have a cloud project due to org restrictions set project=None"
      ],
      "metadata": {
        "id": "SFd4CvjDILky"
      },
      "id": "SFd4CvjDILky",
      "execution_count": null,
      "outputs": []
    },
    {
      "cell_type": "code",
      "source": [
        "# create a Map object with geemap to visualize EE results\n",
        "map = geemap.Map()"
      ],
      "metadata": {
        "id": "1sG3JxKFGEvD"
      },
      "id": "1sG3JxKFGEvD",
      "execution_count": null,
      "outputs": []
    },
    {
      "cell_type": "code",
      "source": [
        "# programically create a scratch cell for displaying the Map\n",
        "from google.colab import _frontend\n",
        "_frontend.create_scratch_cell(\"#@title Map\\nmap\", False)"
      ],
      "metadata": {
        "id": "eFO62nlOF5SY"
      },
      "id": "eFO62nlOF5SY",
      "execution_count": null,
      "outputs": []
    },
    {
      "cell_type": "code",
      "execution_count": null,
      "id": "8212cd69-60ab-4756-86d1-77c16d29c414",
      "metadata": {
        "id": "8212cd69-60ab-4756-86d1-77c16d29c414"
      },
      "outputs": [],
      "source": [
        "#Define Geemap basemap visualizer\n",
        "map.add(\"basemap_selector\")"
      ]
    },
    {
      "cell_type": "code",
      "source": [
        "# Import the UAV image into your coding environment.\n",
        "UAVImage = ee.Image(\"users/dipsgautam/20200309_alex_east_ms_orthomosaic_2cm_mga54\");"
      ],
      "metadata": {
        "id": "AUbZZ9Zr33TO"
      },
      "id": "AUbZZ9Zr33TO",
      "execution_count": null,
      "outputs": []
    },
    {
      "cell_type": "code",
      "source": [
        "# Print information about the UAVImage\n",
        "# In Earth Engine Python API, you don't directly \"print\" an ee.Image.\n",
        "# Instead, you can get information about it and print that.\n",
        "description = UAVImage.getInfo()\n",
        "print(description)"
      ],
      "metadata": {
        "id": "iOCSN0Gu33NC"
      },
      "id": "iOCSN0Gu33NC",
      "execution_count": null,
      "outputs": []
    },
    {
      "cell_type": "code",
      "source": [
        "# Display the true color composite\n",
        "map.add_ee_layer(UAVImage,{'bands':['b3','b2','b1'],'min':5000,'max':40000},\"UAV Image True color\")\n",
        "\n",
        "# Always center the map to the UAVImage location\n",
        "# You need to get the geometry of the image to center it.\n",
        "# Centering requires coordinates, so we'll use the centroid of the image's geometry.\n",
        "centroid = UAVImage.geometry().centroid()\n",
        "coords = centroid.coordinates().getInfo()  # Get coordinates as a Python list [longitude, latitude]\n",
        "map.centerObject(UAVImage, zoom=15)  # Adjust the zoom level (here, 15) as needed"
      ],
      "metadata": {
        "id": "Bpun3HLR33Jr"
      },
      "id": "Bpun3HLR33Jr",
      "execution_count": null,
      "outputs": []
    },
    {
      "cell_type": "code",
      "source": [
        "# Display the false color composite\n",
        "map.add_ee_layer(UAVImage,{'bands':['b5','b3','b2'],'min':5000,'max':40000},\"UAV Image False color\")\n",
        "\n",
        "# Define variable NDVI from equation\n",
        "ndviImage = UAVImage.expression(\n",
        "  \"(NIR - RED) / (NIR + RED)\",\n",
        "  {\n",
        "    'RED': UAVImage.select(\"b3\"),    #  b3 is the RED band\n",
        "    'NIR': UAVImage.select(\"b5\")    # b5 is the NIR band\n",
        "  }).rename('ndvi')"
      ],
      "metadata": {
        "id": "Gw0of0f733Gh"
      },
      "id": "Gw0of0f733Gh",
      "execution_count": null,
      "outputs": []
    },
    {
      "cell_type": "code",
      "source": [
        "# Add the NDVI image to the map, using the visualization parameters.\n",
        "map.add_ee_layer(ndviImage, {'min': 0, 'max': 1, 'palette': ['red','yellow','green','darkgreen']}, \"NDVI\")"
      ],
      "metadata": {
        "id": "Aou58Q0F33Db"
      },
      "id": "Aou58Q0F33Db",
      "execution_count": null,
      "outputs": []
    },
    {
      "cell_type": "code",
      "source": [
        "# Mask out all the pixels that have ndvi value lower than 0.4\n",
        "maskedNDVI = ndviImage.updateMask(ndviImage.gt(0.4))\n",
        "\n",
        "# Add the maskedNDVI to the map, using the visualization parameters.\n",
        "map.add_ee_layer(maskedNDVI, {'min': 0.4, 'max': 1, 'palette': ['yellow','green','darkgreen']}, \"masked NDVI\")"
      ],
      "metadata": {
        "id": "2zlD7RcH327a"
      },
      "id": "2zlD7RcH327a",
      "execution_count": null,
      "outputs": []
    },
    {
      "cell_type": "code",
      "source": [
        "# Define the coordinates of the four vines\n",
        "r191v5 = ee.Geometry.Point([140.82946004591133, -37.286255642184436])\n",
        "r201v11 = ee.Geometry.Point([140.82935912779715, -37.28602196707126])\n",
        "r206v8 = ee.Geometry.Point([140.82943927982373, -37.28590726084841])\n",
        "r206v23 = ee.Geometry.Point([140.82904924791364, -37.28587241960449])"
      ],
      "metadata": {
        "id": "N4MxNk7X323R"
      },
      "id": "N4MxNk7X323R",
      "execution_count": null,
      "outputs": []
    },
    {
      "cell_type": "code",
      "source": [
        "# Buffer the point geometry\n",
        "r191v5_buffered = r191v5.buffer(1.5)\n",
        "r201v11_buffered = r201v11.buffer(1.5)\n",
        "r206v8_buffered = r206v8.buffer(1.5)\n",
        "r206v23_buffered = r206v23.buffer(1.5)"
      ],
      "metadata": {
        "id": "-yuJ5FK232zh"
      },
      "id": "-yuJ5FK232zh",
      "execution_count": null,
      "outputs": []
    },
    {
      "cell_type": "code",
      "execution_count": null,
      "id": "52532fa3-e6a8-4cbb-ab8c-564d37c999d9",
      "metadata": {
        "id": "52532fa3-e6a8-4cbb-ab8c-564d37c999d9"
      },
      "outputs": [],
      "source": [
        "# display the buffered geometry\n",
        "map.add_ee_layer(r191v5_buffered,{},\"r191v5_buffered\")\n",
        "map.add_ee_layer(r201v11_buffered,{},\"r201v11_buffered\")\n",
        "map.add_ee_layer(r206v8_buffered,{},\"r206v8_buffered\")\n",
        "map.add_ee_layer(r206v23_buffered,{},\"r206v23_buffered\")"
      ]
    },
    {
      "cell_type": "code",
      "execution_count": null,
      "id": "801d49be-6761-4822-98cc-954ca24940e0",
      "metadata": {
        "id": "801d49be-6761-4822-98cc-954ca24940e0"
      },
      "outputs": [],
      "source": [
        "# Extract the values from the canopies\n",
        "ndviR191V5 = maskedNDVI.reduceRegion(\n",
        "  reducer= ee.Reducer.mean(),  # We are sampling the mean NDVI value\n",
        "  geometry= r191v5_buffered, # Sampling from Row-191 Vine 5\n",
        "  scale= 0.02 # Sampling from pixel that are of 2 cm resolution\n",
        "  )"
      ]
    },
    {
      "cell_type": "code",
      "execution_count": null,
      "id": "a9bd963b-78dc-4f73-895d-4a576481876f",
      "metadata": {
        "id": "a9bd963b-78dc-4f73-895d-4a576481876f"
      },
      "outputs": [],
      "source": [
        "# Print the extracted mean NDVI value\n",
        "# In Earth Engine Python API, you need to explicitly evaluate the result\n",
        "# using getInfo() or get().\n",
        "print(\"Mean NDVI\", ndviR191V5.get('ndvi').getInfo())"
      ]
    },
    {
      "cell_type": "code",
      "execution_count": null,
      "id": "88c1cee8-a085-4538-ad06-875bb9c4c030",
      "metadata": {
        "id": "88c1cee8-a085-4538-ad06-875bb9c4c030"
      },
      "outputs": [],
      "source": [
        "# implement the formula here\n",
        "netPhot = maskedNDVI.multiply(95.101).add(-43.925).rename('netPhoto')\n",
        "# add the estimated netPhotosynthesis map\n",
        "map.add_ee_layer(netPhot,{'min':0,'max':16,'palette':['red', 'lightyellow', 'yellow', 'green', 'darkgreen']},\"estimated - Net Photosynthesis\")"
      ]
    }
  ],
  "metadata": {
    "kernelspec": {
      "display_name": "Python 3 (ipykernel)",
      "language": "python",
      "name": "python3"
    },
    "language_info": {
      "codemirror_mode": {
        "name": "ipython",
        "version": 3
      },
      "file_extension": ".py",
      "mimetype": "text/x-python",
      "name": "python",
      "nbconvert_exporter": "python",
      "pygments_lexer": "ipython3",
      "version": "3.9.16"
    },
    "colab": {
      "provenance": []
    }
  },
  "nbformat": 4,
  "nbformat_minor": 5
}