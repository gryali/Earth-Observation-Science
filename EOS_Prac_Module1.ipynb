{
  "cells": [
    {
      "cell_type": "markdown",
      "source": [
        "#**Earth Observation Science (GEOM2084)**"
      ],
      "metadata": {
        "id": "yzLuYrS-0WbI"
      },
      "id": "yzLuYrS-0WbI"
    },
    {
      "cell_type": "markdown",
      "source": [
        "\n",
        "\n",
        "Module 1 Practical - Getting started with Google Earth Engine, image visualisation, and band combination\n",
        "\n"
      ],
      "metadata": {
        "id": "KAhzCZEU0PHX"
      },
      "id": "KAhzCZEU0PHX"
    },
    {
      "cell_type": "code",
      "execution_count": null,
      "id": "7a360ad4-d8a5-4215-8d8f-6460f502a4dd",
      "metadata": {
        "id": "7a360ad4-d8a5-4215-8d8f-6460f502a4dd"
      },
      "outputs": [],
      "source": [
        "# install the latest features of the earth engine api\n",
        "!pip install --upgrade earthengine-api"
      ]
    },
    {
      "cell_type": "code",
      "execution_count": null,
      "id": "e5766bf4-a2ab-48be-a251-95245696db06",
      "metadata": {
        "id": "e5766bf4-a2ab-48be-a251-95245696db06"
      },
      "outputs": [],
      "source": [
        "#Import Earth Engine API and the geemap package for geospatial data visulization\n",
        "import google\n",
        "from google.colab import auth\n",
        "from google.auth import compute_engine\n",
        "\n",
        "import ee\n",
        "import geemap"
      ]
    },
    {
      "cell_type": "code",
      "execution_count": null,
      "id": "47f1b428-c349-4d6e-b7a0-9b1799c3113a",
      "metadata": {
        "id": "47f1b428-c349-4d6e-b7a0-9b1799c3113a"
      },
      "outputs": [],
      "source": [
        "# Authenticate with user credentials\n",
        "auth.authenticate_user()"
      ]
    },
    {
      "cell_type": "code",
      "source": [
        "# Please fill in these values.\n",
        "PROJECT = \"ee-glenromzyyali\"  # @param {type:\"string\"} ***Enter your ee-userprojectname***\n",
        "\n",
        "PROJECT = None if PROJECT == \"\" else PROJECT\n",
        "\n",
        "# Quick input validations.\n",
        "if PROJECT is None:\n",
        "    import warnings\n",
        "    warnings.warn(\"⚠️ A Google Cloud project was not provided. Please consider providing a Google Cloud project ID\")"
      ],
      "metadata": {
        "id": "nYM7EnWFILaq"
      },
      "id": "nYM7EnWFILaq",
      "execution_count": null,
      "outputs": []
    },
    {
      "cell_type": "code",
      "source": [
        "# get the user credentials from the VM\n",
        "credentials, _ = google.auth.default()\n",
        "\n",
        "# initialize the client library\n",
        "ee.Initialize(\n",
        "    credentials,\n",
        "    project=PROJECT\n",
        ")\n",
        "# if you do not have a cloud project due to org restrictions set project=None"
      ],
      "metadata": {
        "id": "SFd4CvjDILky"
      },
      "id": "SFd4CvjDILky",
      "execution_count": null,
      "outputs": []
    },
    {
      "cell_type": "code",
      "source": [
        "# create a Map object with geemap to visualize EE results\n",
        "map = geemap.Map()"
      ],
      "metadata": {
        "id": "1sG3JxKFGEvD"
      },
      "id": "1sG3JxKFGEvD",
      "execution_count": null,
      "outputs": []
    },
    {
      "cell_type": "code",
      "source": [
        "# programically create a scratch cell for displaying the Map\n",
        "from google.colab import _frontend\n",
        "_frontend.create_scratch_cell(\"#@title Map\\nmap\", False)"
      ],
      "metadata": {
        "id": "eFO62nlOF5SY"
      },
      "id": "eFO62nlOF5SY",
      "execution_count": null,
      "outputs": []
    },
    {
      "cell_type": "code",
      "execution_count": null,
      "id": "8212cd69-60ab-4756-86d1-77c16d29c414",
      "metadata": {
        "id": "8212cd69-60ab-4756-86d1-77c16d29c414"
      },
      "outputs": [],
      "source": [
        "#Define Geemap basemap visualizer\n",
        "map.add(\"basemap_selector\")"
      ]
    },
    {
      "cell_type": "code",
      "execution_count": null,
      "id": "6eea9daa-571e-4259-97c9-34b1af9b6782",
      "metadata": {
        "id": "6eea9daa-571e-4259-97c9-34b1af9b6782"
      },
      "outputs": [],
      "source": [
        "#Load the USGS SRTM DEM\n",
        "theSRTM = ee.Image(\"USGS/SRTMGL1_003\")"
      ]
    },
    {
      "cell_type": "code",
      "execution_count": null,
      "id": "1c2dd60f-7d50-454e-90b6-fb756d659e85",
      "metadata": {
        "id": "1c2dd60f-7d50-454e-90b6-fb756d659e85"
      },
      "outputs": [],
      "source": [
        "# Add default display to the mapping layer\n",
        "map.addLayer(theSRTM)"
      ]
    },
    {
      "cell_type": "code",
      "execution_count": null,
      "id": "0c3eefca-de44-4c08-8383-87197c0fe85f",
      "metadata": {
        "id": "0c3eefca-de44-4c08-8383-87197c0fe85f"
      },
      "outputs": [],
      "source": [
        "# Display with adjusted min/max values\n",
        "map.addLayer(theSRTM, {'min':0, 'max':1300})"
      ]
    },
    {
      "cell_type": "code",
      "execution_count": null,
      "id": "cd277dba-42ea-462a-aedf-65534284e824",
      "metadata": {
        "id": "cd277dba-42ea-462a-aedf-65534284e824"
      },
      "outputs": [],
      "source": [
        "# Display with min/max and layer title\n",
        "map.addLayer(theSRTM, {'min': 0, 'max': 1300}, 'Elevation above sea level')"
      ]
    },
    {
      "cell_type": "code",
      "execution_count": null,
      "id": "3dca27ad-460d-44a3-8856-68a51359220d",
      "metadata": {
        "id": "3dca27ad-460d-44a3-8856-68a51359220d"
      },
      "outputs": [],
      "source": [
        "# Display with min/max, layer title, and color scale\n",
        "map.addLayer(theSRTM, {'min': 0, 'max': 1300, 'palette': ['blue', 'yellow', 'red']}, 'Color scale elevation above sea level')"
      ]
    },
    {
      "cell_type": "code",
      "execution_count": null,
      "id": "73ef2b90-325c-406e-8db2-7378ced5f381",
      "metadata": {
        "id": "73ef2b90-325c-406e-8db2-7378ced5f381"
      },
      "outputs": [],
      "source": [
        "#Navigate to the area of interest\n",
        "map.setCenter(132.5685, -12.6312, 8)"
      ]
    },
    {
      "cell_type": "code",
      "execution_count": null,
      "id": "d10d9ba8-db94-4892-86e9-ae5cd3bdd69e",
      "metadata": {
        "id": "d10d9ba8-db94-4892-86e9-ae5cd3bdd69e"
      },
      "outputs": [],
      "source": [
        "# Select a specific Sentinel-2 image from the archive\n",
        "anImage = ee.Image(\"COPERNICUS/S2/20180422T012719_20180422T012714_T52LHM\")"
      ]
    },
    {
      "cell_type": "code",
      "execution_count": null,
      "id": "5d3f35cc-c287-4ea0-8788-f45987fa8d71",
      "metadata": {
        "id": "5d3f35cc-c287-4ea0-8788-f45987fa8d71"
      },
      "outputs": [],
      "source": [
        "# Add RGB composite to map\n",
        "map.addLayer(anImage,{'bands':['B4', 'B3', 'B2'], 'min':0, 'max':3000}, \"True-colour\")"
      ]
    },
    {
      "cell_type": "code",
      "execution_count": null,
      "id": "79abaabf-35af-43de-ba1a-31950027d2c5",
      "metadata": {
        "id": "79abaabf-35af-43de-ba1a-31950027d2c5"
      },
      "outputs": [],
      "source": [
        "#Define False-colour visualization parameters.\n",
        "FalseInfraredViz = {\n",
        "  'bands': [\"B8\", \"B4\", \"B3\"],\n",
        "  'min': 0,\n",
        "  'max': 3000\n",
        "  }"
      ]
    },
    {
      "cell_type": "code",
      "execution_count": null,
      "id": "5da23e55-571d-4015-876c-1e875cd8358b",
      "metadata": {
        "id": "5da23e55-571d-4015-876c-1e875cd8358b"
      },
      "outputs": [],
      "source": [
        "# Add the image to the map, using the visualization parameters.\n",
        "map.addLayer(anImage, FalseInfraredViz, \"False-color composite\")"
      ]
    },
    {
      "cell_type": "code",
      "execution_count": null,
      "id": "bc4bd8ea-c829-47b6-9df4-ffd0a17055f6",
      "metadata": {
        "id": "bc4bd8ea-c829-47b6-9df4-ffd0a17055f6"
      },
      "outputs": [],
      "source": [
        "#Define land/water False-colour visualization parameters.\n",
        "FalseLandWaterViz= {\n",
        "  'bands': [\"B8\", \"B11\", \"B4\"],\n",
        "  'min': 0,\n",
        "  'max': 3000,\n",
        "  }"
      ]
    },
    {
      "cell_type": "code",
      "execution_count": null,
      "id": "e14d0ee7-d4fa-42a0-bb97-dffb09ba25b1",
      "metadata": {
        "id": "e14d0ee7-d4fa-42a0-bb97-dffb09ba25b1"
      },
      "outputs": [],
      "source": [
        "# Add the image to the map, using the visualization parameters.\n",
        "map.addLayer(anImage, FalseLandWaterViz, \"False-color Land/Water\")"
      ]
    }
  ],
  "metadata": {
    "kernelspec": {
      "display_name": "Python 3 (ipykernel)",
      "language": "python",
      "name": "python3"
    },
    "language_info": {
      "codemirror_mode": {
        "name": "ipython",
        "version": 3
      },
      "file_extension": ".py",
      "mimetype": "text/x-python",
      "name": "python",
      "nbconvert_exporter": "python",
      "pygments_lexer": "ipython3",
      "version": "3.9.16"
    },
    "colab": {
      "provenance": []
    }
  },
  "nbformat": 4,
  "nbformat_minor": 5
}